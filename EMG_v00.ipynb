{
  "cells": [
    {
      "cell_type": "code",
      "execution_count": 1,
      "metadata": {
        "id": "JSsCPZCYbi3-"
      },
      "outputs": [],
      "source": [
        "import numpy as np\n",
        "import gdown\n",
        "\n",
        "import torch\n",
        "from torch import nn\n",
        "from torch.utils.data import Dataset, DataLoader, TensorDataset\n",
        "\n",
        "import matplotlib.pyplot as plt\n",
        "import seaborn as sns\n",
        "sns.set()"
      ]
    },
    {
      "cell_type": "code",
      "execution_count": null,
      "metadata": {
        "colab": {
          "base_uri": "https://localhost:8080/"
        },
        "id": "QpqrRjAKMPQw",
        "outputId": "2fc01583-1837-43eb-efa9-5be7a2e11852"
      },
      "outputs": [],
      "source": [
        "def load_data_from_drive(file_url, output_path):\n",
        "    # Extract file ID from URL\n",
        "    file_id = file_url.split(\"/d/\")[1].split(\"/view\")[0]\n",
        "\n",
        "    # Construct download link\n",
        "    download_url = f\"https://drive.google.com/uc?id={file_id}\"\n",
        "\n",
        "    # Download file\n",
        "    gdown.download(download_url, output_path, quiet=False)\n",
        "\n",
        "# Load the data from my drive\n",
        "load_data_from_drive(\"https://drive.google.com/file/d/1IYVkJ16ZL1D-LKhPGzfl1eB2rjLKH4yC/view?usp=drive_link\", \"X_train_tabular.npy\")\n",
        "load_data_from_drive(\"https://drive.google.com/file/d/10uNMOfGVrgkAmgZdzbZ3DuBYmpqtYuW7/view?usp=drive_link\", \"y_train_tabular.npy\")\n",
        "load_data_from_drive(\"https://drive.google.com/file/d/1OBXuczL-OAg_OdME3HAzN9J3VdhqKGUm/view?usp=drive_link\", \"X_train_padding.npy\")\n",
        "load_data_from_drive(\"https://drive.google.com/file/d/107Qww9eGFVcu92P522bZimQhW0dSpbLs/view?usp=drive_link\", \"y_train_padding.npy\")"
      ]
    },
    {
      "cell_type": "code",
      "execution_count": 2,
      "metadata": {
        "colab": {
          "base_uri": "https://localhost:8080/"
        },
        "id": "fZ7bbOrPPOhO",
        "outputId": "8ec36164-c89e-4929-a0c2-41a0287b8f1c"
      },
      "outputs": [
        {
          "name": "stdout",
          "output_type": "stream",
          "text": [
            "(4361620, 12)\n",
            "(4361620, 14)\n",
            "(203, 12246, 12)\n",
            "(203, 12246, 14)\n",
            "175\n"
          ]
        }
      ],
      "source": [
        "# Load your input and output data\n",
        "x_train = np.load(\"X_train_tabular.npy\")\n",
        "y_train = np.load(\"y_train_tabular.npy\")\n",
        "print(x_train.shape)\n",
        "print(y_train.shape)\n",
        "\n",
        "# print(x_train.min(axis = 0))\n",
        "# print(x_train.max(axis = 0))\n",
        "# print(x_train.var())\n",
        "# print(x_train.std())\n",
        "\n",
        "\n",
        "# Load your input and output data\n",
        "# Motion, duration (seq_lenght), features ---> (203, 12246, 12)\n",
        "x_train_padd = np.load(\"X_train_padding.npy\")\n",
        "y_train_padd = np.load(\"y_train_padding.npy\")\n",
        "print(x_train_padd.shape)\n",
        "print(y_train_padd.shape)\n",
        "\n",
        "# Convert the data to PyTorch tensors\n",
        "x_train = torch.tensor(x_train).float()\n",
        "y_train = torch.tensor(y_train).float()\n",
        "\n",
        "batch_size = 25000\n",
        "train_data = TensorDataset(x_train, y_train)\n",
        "train_loader = DataLoader(train_data, batch_size=batch_size, shuffle=True)\n",
        "print(len(train_loader))"
      ]
    },
    {
      "cell_type": "code",
      "execution_count": null,
      "metadata": {
        "colab": {
          "base_uri": "https://localhost:8080/"
        },
        "id": "zrQgbb-stzja",
        "outputId": "a9ec4b3d-4105-42ac-d0de-310a1e16d0cf"
      },
      "outputs": [],
      "source": [
        "device = torch.device('cuda') if torch.cuda.is_available() else torch.device('cpu')\n",
        "\n",
        "from CNN_1D import CNN_1D\n",
        "\n",
        "# Instantiate your model\n",
        "model = CNN_1D().to(device)\n",
        "def print_trainable_parameters(model):\n",
        "    \"\"\"\n",
        "    Prints the number of trainable parameters in the model.\n",
        "    \"\"\"\n",
        "    trainable_params = 0\n",
        "    all_param = 0\n",
        "    for _, param in model.named_parameters():\n",
        "        all_param += param.numel()\n",
        "        if param.requires_grad:\n",
        "            trainable_params += param.numel()\n",
        "    print(\n",
        "        f\"trainable params: {trainable_params} || all params: {all_param} || trainable%: {100 * trainable_params / all_param}\"\n",
        "    )\n",
        "print_trainable_parameters(model)\n",
        "for param in model.parameters():\n",
        "  print(param.shape)"
      ]
    },
    {
      "cell_type": "code",
      "execution_count": null,
      "metadata": {
        "colab": {
          "base_uri": "https://localhost:8080/"
        },
        "id": "gE_nt0Zrtsro",
        "outputId": "a279ad45-2a2f-490d-ffe5-e379951a0d78"
      },
      "outputs": [],
      "source": [
        "# Define the loss function and optimizer\n",
        "criterion = nn.MSELoss()\n",
        "optimizer = torch.optim.Adam(params=model.parameters(), lr=0.001)\n",
        "\n",
        "loss_values = []\n",
        "epoch_count = []\n",
        "\n",
        "# Train the model for 10 epochs\n",
        "for epoch in range(10):\n",
        "    train_loss = 0\n",
        "    for x_train, y_train in train_loader:\n",
        "\n",
        "        x_train, y_train = x_train.to('cuda'), y_train.to('cuda') # single batch\n",
        "\n",
        "        # Forward pass\n",
        "        y_pred = model(x_train)\n",
        "\n",
        "        # Zero the gradients\n",
        "        optimizer.zero_grad()\n",
        "\n",
        "        # Compute the loss\n",
        "        loss = criterion(y_pred, y_train)\n",
        "        train_loss += loss\n",
        "\n",
        "        # Backward pass\n",
        "        loss.backward()\n",
        "\n",
        "        # Update the weights\n",
        "        optimizer.step()\n",
        "\n",
        "    train_loss /= len(train_loader)\n",
        "\n",
        "    # Print the loss\n",
        "    print(f'Epoch: {epoch+1}, Loss: {train_loss:.4f}')\n",
        "    loss_values.append(train_loss.cpu().detach().numpy())\n",
        "    epoch_count.append(epoch)"
      ]
    },
    {
      "cell_type": "code",
      "execution_count": null,
      "metadata": {
        "id": "CWFABAwyt96N"
      },
      "outputs": [],
      "source": [
        "plt.figure(figsize = (8, 8))\n",
        "\n",
        "plt.plot(epoch_count, loss_values, label = \"training loss with CNN with selection block\")\n",
        "\n",
        "plt.title(\"Training loss curve\")\n",
        "plt.xlabel(\"Epochs\")\n",
        "plt.ylabel(\"Loss\")\n",
        "\n",
        "plt.legend()\n",
        "plt.show()"
      ]
    }
  ],
  "metadata": {
    "accelerator": "GPU",
    "colab": {
      "gpuType": "T4",
      "provenance": []
    },
    "kernelspec": {
      "display_name": "Python 3",
      "name": "python3"
    },
    "language_info": {
      "name": "python"
    }
  },
  "nbformat": 4,
  "nbformat_minor": 0
}
