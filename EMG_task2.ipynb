{
  "cells": [
    {
      "cell_type": "code",
      "execution_count": null,
      "metadata": {
        "colab": {
          "base_uri": "https://localhost:8080/"
        },
        "id": "QpqrRjAKMPQw",
        "outputId": "df3f3de1-16fb-4783-947a-28b9f1ff9fd1"
      },
      "outputs": [
        {
          "output_type": "stream",
          "name": "stderr",
          "text": [
            "Downloading...\n",
            "From: https://drive.google.com/uc?id=1IYVkJ16ZL1D-LKhPGzfl1eB2rjLKH4yC\n",
            "To: /content/X_train_tabular.npy\n",
            "100%|██████████| 209M/209M [00:05<00:00, 37.7MB/s]\n",
            "Downloading...\n",
            "From: https://drive.google.com/uc?id=10uNMOfGVrgkAmgZdzbZ3DuBYmpqtYuW7\n",
            "To: /content/y_train_tabular.npy\n",
            "100%|██████████| 489M/489M [00:07<00:00, 65.9MB/s]\n",
            "Downloading...\n",
            "From: https://drive.google.com/uc?id=1OBXuczL-OAg_OdME3HAzN9J3VdhqKGUm\n",
            "To: /content/X_train_padding.npy\n",
            "100%|██████████| 239M/239M [00:04<00:00, 58.5MB/s]\n",
            "Downloading...\n",
            "From: https://drive.google.com/uc?id=107Qww9eGFVcu92P522bZimQhW0dSpbLs\n",
            "To: /content/y_train_padding.npy\n",
            "100%|██████████| 278M/278M [00:05<00:00, 52.6MB/s]\n"
          ]
        }
      ],
      "source": [
        "def load_data_from_drive(file_url, output_path):\n",
        "    # Extract file ID from URL\n",
        "    file_id = file_url.split(\"/d/\")[1].split(\"/view\")[0]\n",
        "\n",
        "    # Construct download link\n",
        "    download_url = f\"https://drive.google.com/uc?id={file_id}\"\n",
        "\n",
        "    # Download file\n",
        "    gdown.download(download_url, output_path, quiet=False)\n",
        "\n",
        "# Load the data from my drive\n",
        "import gdown\n",
        "load_data_from_drive(\"https://drive.google.com/file/d/1IYVkJ16ZL1D-LKhPGzfl1eB2rjLKH4yC/view?usp=drive_link\", \"X_train_tabular.npy\")\n",
        "load_data_from_drive(\"https://drive.google.com/file/d/10uNMOfGVrgkAmgZdzbZ3DuBYmpqtYuW7/view?usp=drive_link\", \"y_train_tabular.npy\")\n",
        "load_data_from_drive(\"https://drive.google.com/file/d/1OBXuczL-OAg_OdME3HAzN9J3VdhqKGUm/view?usp=drive_link\", \"X_train_padding.npy\")\n",
        "load_data_from_drive(\"https://drive.google.com/file/d/107Qww9eGFVcu92P522bZimQhW0dSpbLs/view?usp=drive_link\", \"y_train_padding.npy\")"
      ]
    },
    {
      "cell_type": "code",
      "execution_count": null,
      "metadata": {
        "id": "yR2eAQSfMYV3"
      },
      "outputs": [],
      "source": [
        "import numpy as np\n",
        "\n",
        "import torch\n",
        "from torch import nn\n",
        "from torch.utils.data import Dataset, DataLoader, TensorDataset\n",
        "\n",
        "import matplotlib.pyplot as plt\n",
        "import seaborn as sns\n",
        "sns.set()"
      ]
    },
    {
      "cell_type": "markdown",
      "source": [
        "# Sequential Data"
      ],
      "metadata": {
        "id": "W5c4ii1vxzEx"
      }
    },
    {
      "cell_type": "code",
      "execution_count": null,
      "metadata": {
        "id": "PwPpmzwpD0gu"
      },
      "outputs": [],
      "source": [
        "# Motion, duration (seq_lenght), features ---> (203, 12246, 12)\n"
      ]
    },
    {
      "cell_type": "code",
      "execution_count": null,
      "metadata": {
        "colab": {
          "base_uri": "https://localhost:8080/"
        },
        "id": "LB9hSjcn0XgG",
        "outputId": "2aab2268-40e9-4059-e0c7-0059b87871f6"
      },
      "outputs": [
        {
          "output_type": "stream",
          "name": "stdout",
          "text": [
            "(203, 12246, 12)\n",
            "(203, 12246, 14)\n"
          ]
        }
      ],
      "source": [
        "# Load your input and output data\n",
        "x_train_padd = np.load(\"X_train_padding.npy\")\n",
        "y_train_padd = np.load(\"y_train_padding.npy\")\n",
        "print(x_train_padd.shape)\n",
        "print(y_train_padd.shape)"
      ]
    },
    {
      "cell_type": "code",
      "execution_count": null,
      "metadata": {
        "colab": {
          "base_uri": "https://localhost:8080/"
        },
        "id": "GozTsvO1Jt77",
        "outputId": "542426e3-e596-459e-8378-0a9ada5e416e"
      },
      "outputs": [
        {
          "output_type": "stream",
          "name": "stdout",
          "text": [
            "11\n"
          ]
        }
      ],
      "source": [
        "# Convert the data to PyTorch tensors\n",
        "x_train = torch.tensor(x_train_padd).float()\n",
        "y_train = torch.tensor(y_train_padd).float()\n",
        "\n",
        "train_data = TensorDataset(x_train, y_train)\n",
        "\n",
        "batch_size = 20\n",
        "train_loader = DataLoader(train_data, batch_size=batch_size, shuffle=True)\n",
        "print(len(train_loader))"
      ]
    },
    {
      "cell_type": "markdown",
      "source": [
        "# Cnn and Lstm"
      ],
      "metadata": {
        "id": "dJyJEGOfxryK"
      }
    },
    {
      "cell_type": "code",
      "source": [
        "import torch\n",
        "import torch.nn as nn\n",
        "\n",
        "class DC_Model(nn.Module):\n",
        "  #torch.Size([203, 12, 12246])\n",
        "#\n",
        "    def __init__(self):\n",
        "        super(DC_Model, self).__init__()\n",
        "        self.relu = nn.ReLU()\n",
        "        #I want to discuss kernel size as by inc it seq_length decrease\n",
        "        self.conv1 = nn.Conv1d(in_channels=12, out_channels=24, kernel_size=1, stride=1)\n",
        "        self.conv2 = nn.Conv1d(in_channels=24, out_channels=48, kernel_size=1, stride=1)\n",
        "        self.rnn = nn.LSTM(48, 24, batch_first=True)\n",
        "        self.fc = nn.Linear(24, 14)\n",
        "\n",
        "\n",
        "    def forward(self, input):\n",
        "\n",
        "        # input shape: (batch_size, features, seq_length)\n",
        "\n",
        "        x = self.relu(self.conv1(input))\n",
        "        x = self.relu(self.conv2(x)) # will output [20,48,12446]\n",
        "        x  =x.permute(0, 2, 1) #lstm should take [batch_size,seq_length,features] so i need to permute from [20,48,12446] ---> [20,12446,48]\n",
        "        out, _ = self.rnn(x)\n",
        "        out = self.fc(out)\n",
        "        return out\n",
        "\n",
        "\n",
        "\n",
        "device = torch.device('cuda') if torch.cuda.is_available() else torch.device('cpu')\n",
        "\n",
        "# Build and define your model\n",
        "model = DC_Model()\n",
        "model.to(device)\n",
        "\n"
      ],
      "metadata": {
        "colab": {
          "base_uri": "https://localhost:8080/"
        },
        "id": "sqsxyaaEODIb",
        "outputId": "caa9cf8a-529f-4474-8198-b9b01c2ed467"
      },
      "execution_count": null,
      "outputs": [
        {
          "output_type": "execute_result",
          "data": {
            "text/plain": [
              "DC_Model(\n",
              "  (relu): ReLU()\n",
              "  (conv1): Conv1d(12, 24, kernel_size=(1,), stride=(1,))\n",
              "  (conv2): Conv1d(24, 48, kernel_size=(1,), stride=(1,))\n",
              "  (rnn): LSTM(48, 24, batch_first=True)\n",
              "  (fc): Linear(in_features=24, out_features=14, bias=True)\n",
              ")"
            ]
          },
          "metadata": {},
          "execution_count": 3
        }
      ]
    },
    {
      "cell_type": "code",
      "source": [
        "# Define the loss function and optimizer\n",
        "criterion = nn.MSELoss()\n",
        "optimizer = torch.optim.Adam(model.parameters())\n",
        "\n",
        "loss_values = []\n",
        "epoch_count = []\n",
        "\n",
        "# Train the model for 10 epochs\n",
        "for epoch in range(10):\n",
        "    train_loss = 0\n",
        "    for x_train, y_train in train_loader:\n",
        "\n",
        "        x_train, y_train = x_train.to('cuda'), y_train.to('cuda') # single batch\n",
        "        x_train =x_train.permute(0, 2, 1)\n",
        "\n",
        "\n",
        "        # Forward pass\n",
        "        y_pred = model(x_train)\n",
        "\n",
        "        # Zero the gradients\n",
        "        optimizer.zero_grad()\n",
        "\n",
        "        # Compute the loss\n",
        "        loss = criterion(y_pred, y_train)\n",
        "        train_loss += loss\n",
        "\n",
        "        # Backward pass\n",
        "        loss.backward()\n",
        "\n",
        "        # Update the weights\n",
        "        optimizer.step()\n",
        "\n",
        "    train_loss /= len(train_loader)\n",
        "\n",
        "    # Print the loss\n",
        "    print(f'Epoch: {epoch+1}, Loss: {train_loss:.4f}')\n",
        "    loss_values.append(train_loss.cpu().detach().numpy())\n",
        "    epoch_count.append(epoch)"
      ],
      "metadata": {
        "colab": {
          "base_uri": "https://localhost:8080/"
        },
        "id": "QRxs7H7sOoQW",
        "outputId": "d33891c6-9e9b-4e4a-c312-4dc323de2529"
      },
      "execution_count": null,
      "outputs": [
        {
          "output_type": "stream",
          "name": "stdout",
          "text": [
            "Epoch: 1, Loss: 1706.1990\n",
            "Epoch: 2, Loss: 1695.8685\n",
            "Epoch: 3, Loss: 1706.7257\n",
            "Epoch: 4, Loss: 1691.6105\n",
            "Epoch: 5, Loss: 1706.0267\n",
            "Epoch: 6, Loss: 1709.5684\n",
            "Epoch: 7, Loss: 1622.7292\n",
            "Epoch: 8, Loss: 1600.8486\n",
            "Epoch: 9, Loss: 1558.5043\n",
            "Epoch: 10, Loss: 1504.5374\n"
          ]
        }
      ]
    },
    {
      "cell_type": "code",
      "source": [
        "plt.figure(figsize = (8, 8))\n",
        "plt.plot(epoch_count, loss_values, label = \"training loss with CNN-LSTM Model\")\n",
        "\n",
        "plt.title(\"Training loss curve\")\n",
        "plt.xlabel(\"Epochs\")\n",
        "plt.ylabel(\"Loss\")\n",
        "\n",
        "plt.legend()\n",
        "plt.show()"
      ],
      "metadata": {
        "colab": {
          "base_uri": "https://localhost:8080/",
          "height": 727
        },
        "id": "ekSKzF0LzPb4",
        "outputId": "901cd323-c8ac-415d-a09d-af6a328ff5ce"
      },
      "execution_count": null,
      "outputs": [
        {
          "output_type": "display_data",
          "data": {
            "text/plain": [
              "<Figure size 800x800 with 1 Axes>"
            ],
            "image/png": "[encoded data removed]"
          },
          "metadata": {}
        }
      ]
    },
    {
      "cell_type": "markdown",
      "source": [
        "# Architecture I call it DC model\n",
        "\n",
        "\n",
        "1.   Build Dnn\n",
        "2.   Build Cnn\n",
        "3.   Finally a linear layer\n",
        "\n",
        "\n"
      ],
      "metadata": {
        "id": "v9ptOBb3X5XI"
      }
    },
    {
      "cell_type": "code",
      "source": [
        "# Convert the data to PyTorch tensors\n",
        "x_train = torch.tensor(x_train).float()\n",
        "y_train = torch.tensor(y_train).float()\n",
        "\n",
        "train_data = TensorDataset(x_train, y_train)\n",
        "\n",
        "batch_size = 100000\n",
        "train_loader = DataLoader(train_data, batch_size=batch_size, shuffle=True)\n",
        "print(len(train_loader))"
      ],
      "metadata": {
        "colab": {
          "base_uri": "https://localhost:8080/"
        },
        "id": "k4gHpXQxX7j1",
        "outputId": "a3e40ac9-72d1-410f-fe3f-b8b40fd7692d"
      },
      "execution_count": null,
      "outputs": [
        {
          "output_type": "stream",
          "name": "stdout",
          "text": [
            "44\n"
          ]
        }
      ]
    },
    {
      "cell_type": "code",
      "source": [
        "class DC_Model(nn.Module):\n",
        "  def __init__(self):\n",
        "    super().__init__()\n",
        "    self.relu = nn.ReLU()\n",
        "\n",
        "    self.drop = nn.Dropout(0.2)\n",
        "    self.layer1 = nn.Linear(in_features=12,out_features=128)\n",
        "    self.layer2 = nn.Linear(in_features=128 , out_features=256)\n",
        "    self.layer3 = nn.Linear(in_features=256, out_features=512)\n",
        "    self.layer4 = nn.Linear(in_features=512 , out_features=24)\n",
        "    self.layer5 = nn.Linear(in_features=24 , out_features=12)\n",
        "\n",
        "    self.conv1 =  nn.Conv1d(in_channels=1, out_channels=12, kernel_size=2, stride=1)\n",
        "    self.elu =  nn.ELU()\n",
        "    self.conv2 = nn.Conv1d(in_channels=12, out_channels=24, kernel_size=2, stride=1)\n",
        "    self.flatt =  nn.Flatten()\n",
        "\n",
        "    self.lin1 = nn.Linear(24*10,14)\n",
        "\n",
        "\n",
        "  def forward(self,input):\n",
        "    #input = (batch_size=10000, input_features=12)\n",
        "\n",
        "    #DNN\n",
        "    x = self.relu(self.layer1(input))\n",
        "    x = self.relu(self.layer2(x))\n",
        "    x = self.relu(self.layer3(x))\n",
        "    x = self.drop(x)\n",
        "    x = self.relu(self.layer4(x))\n",
        "    x = self.relu(self.layer5(x))  #output_size = (batch_size=10000, output_features=12)\n",
        "    x = x.unsqueeze(1)  #I need to change dim from 2D to 3D  ----------->[100000, 1, 12] pass it to cnn layer\n",
        "    # CNN\n",
        "    x = self.elu(self.conv1(x))\n",
        "    x = self.elu(self.conv2(x)) # output of this layer 'll be (batch_size, out_channels , remaining_length ) ---->[100000,24,10]\n",
        "    x = self.flatt(x) # After flattening inp to linear layer 'll be (24*10)\n",
        "    # ANN\n",
        "    x = self.lin1(x)\n",
        "    x = self.elu(x)\n",
        "    return x\n",
        "\n",
        "\n",
        "\n",
        "\n",
        "device = torch.device('cuda') if torch.cuda.is_available() else torch.device('cpu')\n",
        "\n",
        "# Build and define your model\n",
        "model = DC_Model()\n",
        "model.to(device)\n"
      ],
      "metadata": {
        "id": "rcmmR-_NU9XK",
        "colab": {
          "base_uri": "https://localhost:8080/"
        },
        "outputId": "0e051757-f9f7-45b2-ecaa-8f956b8cb88f"
      },
      "execution_count": null,
      "outputs": [
        {
          "output_type": "execute_result",
          "data": {
            "text/plain": [
              "DC_Model(\n",
              "  (relu): ReLU()\n",
              "  (drop): Dropout(p=0.2, inplace=False)\n",
              "  (layer1): Linear(in_features=12, out_features=128, bias=True)\n",
              "  (layer2): Linear(in_features=128, out_features=256, bias=True)\n",
              "  (layer3): Linear(in_features=256, out_features=512, bias=True)\n",
              "  (layer4): Linear(in_features=512, out_features=24, bias=True)\n",
              "  (layer5): Linear(in_features=24, out_features=12, bias=True)\n",
              "  (conv1): Conv1d(1, 12, kernel_size=(2,), stride=(1,))\n",
              "  (elu): ELU(alpha=1.0)\n",
              "  (conv2): Conv1d(12, 24, kernel_size=(2,), stride=(1,))\n",
              "  (flatt): Flatten(start_dim=1, end_dim=-1)\n",
              "  (lin1): Linear(in_features=240, out_features=14, bias=True)\n",
              ")"
            ]
          },
          "metadata": {},
          "execution_count": 39
        }
      ]
    },
    {
      "cell_type": "code",
      "source": [
        "# Define the loss function and optimizer\n",
        "criterion = nn.MSELoss()\n",
        "optimizer = torch.optim.Adam(model.parameters())\n",
        "\n",
        "loss_values = []\n",
        "epoch_count = []\n",
        "\n",
        "# Train the model for 10 epochs\n",
        "for epoch in range(10):\n",
        "    train_loss = 0\n",
        "    for x_train, y_train in train_loader:\n",
        "\n",
        "        x_train, y_train = x_train.to('cuda'), y_train.to('cuda') # single batch\n",
        "\n",
        "        # Forward pass\n",
        "        y_pred = model(x_train)\n",
        "\n",
        "        # Zero the gradients\n",
        "        optimizer.zero_grad()\n",
        "\n",
        "        # Compute the loss\n",
        "        loss = criterion(y_pred, y_train)\n",
        "        train_loss += loss\n",
        "\n",
        "        # Backward pass\n",
        "        loss.backward()\n",
        "\n",
        "        # Update the weights\n",
        "        optimizer.step()\n",
        "\n",
        "    train_loss /= len(train_loader)\n",
        "\n",
        "    # Print the loss\n",
        "    print(f'Epoch: {epoch+1}, Loss: {train_loss:.4f}')\n",
        "    loss_values.append(train_loss.cpu().detach().numpy())\n",
        "    epoch_count.append(epoch)"
      ],
      "metadata": {
        "colab": {
          "base_uri": "https://localhost:8080/"
        },
        "id": "N3q_PMInXuZo",
        "outputId": "b1e37dfa-58f4-4e01-c3ec-4b1687020ec2"
      },
      "execution_count": null,
      "outputs": [
        {
          "output_type": "stream",
          "name": "stdout",
          "text": [
            "Epoch: 1, Loss: 2273.3057\n",
            "Epoch: 2, Loss: 379.0694\n",
            "Epoch: 3, Loss: 320.0477\n",
            "Epoch: 4, Loss: 319.4966\n",
            "Epoch: 5, Loss: 319.5350\n",
            "Epoch: 6, Loss: 319.5160\n",
            "Epoch: 7, Loss: 319.4818\n",
            "Epoch: 8, Loss: 319.4527\n",
            "Epoch: 9, Loss: 319.4244\n",
            "Epoch: 10, Loss: 319.4114\n"
          ]
        }
      ]
    },
    {
      "cell_type": "code",
      "source": [
        "plt.figure(figsize = (8, 8))\n",
        "plt.plot(epoch_count, loss_values, label = \"training loss with DC Model\")\n",
        "\n",
        "plt.title(\"Training loss curve\")\n",
        "plt.xlabel(\"Epochs\")\n",
        "plt.ylabel(\"Loss\")\n",
        "\n",
        "plt.legend()\n",
        "plt.show()"
      ],
      "metadata": {
        "colab": {
          "base_uri": "https://localhost:8080/",
          "height": 727
        },
        "id": "7-HYaICQl6Fm",
        "outputId": "27d05616-f8c7-4c02-94d4-ff931f935082"
      },
      "execution_count": null,
      "outputs": [
        {
          "output_type": "display_data",
          "data": {
            "text/plain": [
              "<Figure size 800x800 with 1 Axes>"
            ],
            "image/png": "[encoded data removed]"
          },
          "metadata": {}
        }
      ]
    }
  ],
  "metadata": {
    "accelerator": "GPU",
    "colab": {
      "provenance": [],
      "gpuType": "T4"
    },
    "kernelspec": {
      "display_name": "Python 3",
      "name": "python3"
    },
    "language_info": {
      "name": "python"
    }
  },
  "nbformat": 4,
  "nbformat_minor": 0
}